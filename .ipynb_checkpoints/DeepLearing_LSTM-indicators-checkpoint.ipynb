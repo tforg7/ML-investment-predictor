{
 "cells": [
  {
   "cell_type": "code",
   "execution_count": 14,
   "metadata": {},
   "outputs": [],
   "source": [
    "import numpy as np\n",
    "import pandas as pd\n",
    "import hvplot.pandas\n",
    "import tensorflow as tf\n",
    "from pathlib import Path\n",
    "\n",
    "# API import\n",
    "import requests\n",
    "import json\n",
    "import pickle as pk"
   ]
  },
  {
   "cell_type": "code",
   "execution_count": 15,
   "metadata": {},
   "outputs": [],
   "source": [
    "# API Call to Kucoin Exchange \n",
    "ticker = \"BTC\"\n",
    "frequency = \"1hour\"\n",
    "epoch = \"1620360000\"\n",
    "response_data = requests.get(f'https://api.kucoin.com/api/v1/market/candles?type={frequency}&symbol={ticker}-USDT&startAt={epoch}&endAt=0&limit=10000').json()\n",
    "\n",
    "\n",
    "# Data Cleaning\n",
    "df = pd.DataFrame(response_data['data'])\n",
    "\n",
    "df[0] = pd.to_datetime(df[0], unit='s')\n",
    "df.columns =['Date', 'Opening price',  'Closing price' , 'Highest price' , 'Lowest price' , 'Transaction volume' ,  'Transaction amount']\n",
    "df.sort_values(by=['Date'], inplace=True)\n",
    "df.set_index('Date', inplace=True)\n",
    "df = df.astype(float)\n",
    "\n",
    "# Export all data\n",
    "df.to_csv(\"./Export/Test-data/DataSet.csv\")"
   ]
  },
  {
   "cell_type": "code",
   "execution_count": 16,
   "metadata": {},
   "outputs": [],
   "source": [
    "# This function accepts the column number for the features (X) and the target (y)\n",
    "# It chunks the data up with a rolling window of Xt-n to predict Xt\n",
    "# It returns a numpy array of X any y\n",
    "def window_data(df, window, feature_col_number, target_col_number):\n",
    "    X = []\n",
    "    y = []\n",
    "    for i in range(len(df) - window):\n",
    "        features = df.iloc[i:(i + window), feature_col_number]\n",
    "        target = df.iloc[(i + window), target_col_number]\n",
    "        X.append(features)\n",
    "        y.append(target)\n",
    "    return np.array(X), np.array(y).reshape(-1, 1)"
   ]
  },
  {
   "cell_type": "code",
   "execution_count": 17,
   "metadata": {},
   "outputs": [],
   "source": [
    "# Initiate dictionary with the model variables\n",
    "model_parameters = {\n",
    "    \"window_size\" : 24 ,\n",
    "    \"split_train\" : 0.7,\n",
    "    \"dropout_fraction\" : 0.2,\n",
    "    \"epoch\" : 20 ,\n",
    "    \"batch\" : 3,\n",
    "    \"split_val\" : 0.2\n",
    "    }\n",
    "\n",
    "# Predict Closing Prices using a day window of previous closing prices\n",
    "window_size = model_parameters[\"window_size\"]\n",
    "\n",
    "# Use Column index 1, is the `Closing Price` column\n",
    "feature_column = 1\n",
    "target_column = 1\n",
    "X, y = window_data(df, window_size, feature_column, target_column)\n",
    "\n",
    "# Use 70% of the data for training and the remaineder for testing\n",
    "split = int(model_parameters[\"split_train\"] * len(X))\n",
    "X_train = X[: split]\n",
    "X_test = X[split:]\n",
    "y_train = y[: split]\n",
    "y_test = y[split:]"
   ]
  },
  {
   "cell_type": "code",
   "execution_count": 18,
   "metadata": {
    "tags": []
   },
   "outputs": [],
   "source": [
    "# Export X_test and y_test before scaler, this data will be used to compare the different models in order to compare results with same data\n",
    "X_test_df = pd.DataFrame(X_test)\n",
    "X_test_df.to_csv(\"./Export/Test-data/X_test.csv\", index=False)\n",
    "\n",
    "\n",
    "y_test_df = pd.DataFrame(y_test)\n",
    "y_test_df.to_csv(\"./Export/Test-data/y_test.csv\", index=False)"
   ]
  },
  {
   "cell_type": "code",
   "execution_count": 19,
   "metadata": {},
   "outputs": [],
   "source": [
    "# Use the MinMaxScaler to scale data between 0 and 1.\n",
    "from sklearn.preprocessing import MinMaxScaler\n",
    "\n",
    "    # Create a MinMaxScaler object\n",
    "X_scaler = MinMaxScaler()\n",
    "Y_scaler = MinMaxScaler()\n",
    "\n",
    "    # Fit the MinMaxScaler object with the training feature data X_train\n",
    "X_scaler.fit(X_train)\n",
    "    # Scale the features training and testing sets\n",
    "X_train = X_scaler.transform(X_train)\n",
    "X_test = X_scaler.transform(X_test)\n",
    "\n",
    "    # # Fit the MinMaxScaler object with the training target data y_train\n",
    "Y_scaler.fit(y_train)\n",
    "    # Scale the target training and testing sets\n",
    "y_train = Y_scaler.transform(y_train)\n",
    "y_test = Y_scaler.transform(y_test)\n",
    "\n",
    "\n",
    "# Reshape the features for the model\n",
    "X_train = X_train.reshape((X_train.shape[0], X_train.shape[1], 1))\n",
    "X_test = X_test.reshape((X_test.shape[0], X_test.shape[1], 1))\n"
   ]
  },
  {
   "cell_type": "code",
   "execution_count": 20,
   "metadata": {},
   "outputs": [],
   "source": [
    "# Export scaler model\n",
    "# Save X_scaler model in pickle\n",
    "filename_x_scaler = \"./Export/X_scaler_rnn\"\n",
    "outfile = open(filename_x_scaler, \"wb\")\n",
    "pk.dump(X_scaler,outfile)\n",
    "outfile.close()\n",
    "\n",
    "# Save y_scaler model in pickle\n",
    "filename_y_scaler = \"./Export/Y_scaler_rnn\"\n",
    "outfile = open(filename_y_scaler, \"wb\")\n",
    "pk.dump(Y_scaler,outfile)\n",
    "outfile.close()"
   ]
  },
  {
   "cell_type": "markdown",
   "metadata": {},
   "source": [
    "---"
   ]
  },
  {
   "cell_type": "markdown",
   "metadata": {},
   "source": [
    "## Build and Train the LSTM RNN\n",
    "In this section, we design a custom LSTM RNN and fit (train) it using the training data.\n",
    "\n",
    "We do the following things:\n",
    "1. Define the model architecture\n",
    "2. Compile the model\n",
    "3. Fit the model to the training data\n"
   ]
  },
  {
   "cell_type": "code",
   "execution_count": 21,
   "metadata": {},
   "outputs": [
    {
     "name": "stdout",
     "output_type": "stream",
     "text": [
      "Epoch 1/20\n",
      "276/276 [==============================] - 14s 16ms/step - loss: 0.0219 - mse: 0.0219 - accuracy: 0.0000e+00 - val_loss: 0.0049 - val_mse: 0.0049 - val_accuracy: 0.0048\n",
      "Epoch 2/20\n",
      "276/276 [==============================] - 3s 12ms/step - loss: 0.0113 - mse: 0.0113 - accuracy: 0.0012 - val_loss: 0.0085 - val_mse: 0.0085 - val_accuracy: 0.0048\n",
      "Epoch 3/20\n",
      "276/276 [==============================] - 3s 11ms/step - loss: 0.0112 - mse: 0.0112 - accuracy: 0.0012 - val_loss: 0.0109 - val_mse: 0.0109 - val_accuracy: 0.0048\n",
      "Epoch 4/20\n",
      "276/276 [==============================] - 3s 11ms/step - loss: 0.0099 - mse: 0.0099 - accuracy: 0.0012 - val_loss: 0.0112 - val_mse: 0.0112 - val_accuracy: 0.0048\n",
      "Epoch 5/20\n",
      "276/276 [==============================] - 3s 12ms/step - loss: 0.0091 - mse: 0.0091 - accuracy: 0.0012 - val_loss: 0.0111 - val_mse: 0.0111 - val_accuracy: 0.0048\n",
      "Epoch 6/20\n",
      "276/276 [==============================] - 3s 12ms/step - loss: 0.0081 - mse: 0.0081 - accuracy: 0.0012 - val_loss: 0.0087 - val_mse: 0.0087 - val_accuracy: 0.0048\n",
      "Epoch 7/20\n",
      "276/276 [==============================] - 4s 13ms/step - loss: 0.0069 - mse: 0.0069 - accuracy: 0.0012 - val_loss: 0.0064 - val_mse: 0.0064 - val_accuracy: 0.0048\n",
      "Epoch 8/20\n",
      "276/276 [==============================] - 4s 13ms/step - loss: 0.0056 - mse: 0.0056 - accuracy: 0.0012 - val_loss: 0.0056 - val_mse: 0.0056 - val_accuracy: 0.0048\n",
      "Epoch 9/20\n",
      "276/276 [==============================] - 4s 13ms/step - loss: 0.0053 - mse: 0.0053 - accuracy: 0.0012 - val_loss: 0.0053 - val_mse: 0.0053 - val_accuracy: 0.0048\n",
      "Epoch 10/20\n",
      "276/276 [==============================] - 4s 14ms/step - loss: 0.0045 - mse: 0.0045 - accuracy: 0.0012 - val_loss: 0.0036 - val_mse: 0.0036 - val_accuracy: 0.0048\n",
      "Epoch 11/20\n",
      "276/276 [==============================] - 4s 14ms/step - loss: 0.0045 - mse: 0.0045 - accuracy: 0.0012 - val_loss: 0.0034 - val_mse: 0.0034 - val_accuracy: 0.0048\n",
      "Epoch 12/20\n",
      "276/276 [==============================] - 4s 14ms/step - loss: 0.0032 - mse: 0.0032 - accuracy: 0.0012 - val_loss: 0.0022 - val_mse: 0.0022 - val_accuracy: 0.0048\n",
      "Epoch 13/20\n",
      "276/276 [==============================] - 4s 14ms/step - loss: 0.0030 - mse: 0.0030 - accuracy: 0.0012 - val_loss: 0.0017 - val_mse: 0.0017 - val_accuracy: 0.0048\n",
      "Epoch 14/20\n",
      "276/276 [==============================] - 4s 14ms/step - loss: 0.0028 - mse: 0.0028 - accuracy: 0.0012 - val_loss: 0.0021 - val_mse: 0.0021 - val_accuracy: 0.0048\n",
      "Epoch 15/20\n",
      "276/276 [==============================] - 4s 15ms/step - loss: 0.0031 - mse: 0.0031 - accuracy: 0.0012 - val_loss: 0.0023 - val_mse: 0.0023 - val_accuracy: 0.0048\n",
      "Epoch 16/20\n",
      "276/276 [==============================] - 4s 15ms/step - loss: 0.0031 - mse: 0.0031 - accuracy: 0.0012 - val_loss: 0.0030 - val_mse: 0.0030 - val_accuracy: 0.0048\n",
      "Epoch 17/20\n",
      "276/276 [==============================] - 4s 15ms/step - loss: 0.0025 - mse: 0.0025 - accuracy: 0.0012 - val_loss: 0.0021 - val_mse: 0.0021 - val_accuracy: 0.0048\n",
      "Epoch 18/20\n",
      "276/276 [==============================] - 4s 15ms/step - loss: 0.0024 - mse: 0.0024 - accuracy: 0.0012 - val_loss: 0.0017 - val_mse: 0.0017 - val_accuracy: 0.0048\n",
      "Epoch 19/20\n",
      "276/276 [==============================] - 4s 15ms/step - loss: 0.0022 - mse: 0.0022 - accuracy: 0.0012 - val_loss: 0.0021 - val_mse: 0.0021 - val_accuracy: 0.0048\n",
      "Epoch 20/20\n",
      "276/276 [==============================] - 5s 17ms/step - loss: 0.0024 - mse: 0.0024 - accuracy: 0.0012 - val_loss: 0.0022 - val_mse: 0.0022 - val_accuracy: 0.0048\n"
     ]
    },
    {
     "data": {
      "text/plain": [
       "<keras.callbacks.History at 0x1d2f2f05b88>"
      ]
     },
     "execution_count": 21,
     "metadata": {},
     "output_type": "execute_result"
    }
   ],
   "source": [
    "# Build the LSTM model. \n",
    "from tensorflow.keras.models import Sequential\n",
    "from tensorflow.keras.layers import LSTM, Dense, Dropout, Bidirectional\n",
    "\n",
    "model = Sequential()\n",
    "\n",
    "number_units = window_size\n",
    "dropout_fraction = model_parameters[\"dropout_fraction\"]\n",
    "\n",
    "# Layer 1\n",
    "model.add(Bidirectional(LSTM(\n",
    "    units=number_units,\n",
    "    return_sequences=True,\n",
    "    input_shape=(X_train.shape[1], 1))\n",
    "    ))\n",
    "\n",
    "# Layer 2\n",
    "model.add(Bidirectional(LSTM(\n",
    "    units=number_units,\n",
    "    return_sequences=False))\n",
    "    )\n",
    "model.add(Dropout(\n",
    "    dropout_fraction))\n",
    "\n",
    "# Output layer\n",
    "model.add(Dense(1))\n",
    "\n",
    "# Compile the model\n",
    "model.compile(optimizer=\"adam\", loss=\"mean_squared_error\", metrics = [\"mse\", \"accuracy\"])\n",
    "\n",
    "\n",
    "\n",
    "# Train the model\n",
    "batch = model_parameters[\"batch\"]\n",
    "epoch = model_parameters[\"epoch\"]\n",
    "validation = model_parameters[\"split_val\"]\n",
    "\n",
    "model.fit(X_train, y_train , validation_split=validation, epochs=epoch, shuffle=False, batch_size=batch, verbose=1)"
   ]
  },
  {
   "cell_type": "code",
   "execution_count": 22,
   "metadata": {},
   "outputs": [
    {
     "name": "stdout",
     "output_type": "stream",
     "text": [
      "Model: \"sequential_1\"\n",
      "_________________________________________________________________\n",
      " Layer (type)                Output Shape              Param #   \n",
      "=================================================================\n",
      " bidirectional_2 (Bidirectio  (None, 24, 48)           4992      \n",
      " nal)                                                            \n",
      "                                                                 \n",
      " bidirectional_3 (Bidirectio  (None, 48)               14016     \n",
      " nal)                                                            \n",
      "                                                                 \n",
      " dropout_1 (Dropout)         (None, 48)                0         \n",
      "                                                                 \n",
      " dense_1 (Dense)             (None, 1)                 49        \n",
      "                                                                 \n",
      "=================================================================\n",
      "Total params: 19,057\n",
      "Trainable params: 19,057\n",
      "Non-trainable params: 0\n",
      "_________________________________________________________________\n"
     ]
    }
   ],
   "source": [
    "# Summarize the model\n",
    "model.summary()"
   ]
  },
  {
   "cell_type": "markdown",
   "metadata": {},
   "source": [
    "---"
   ]
  },
  {
   "cell_type": "markdown",
   "metadata": {},
   "source": [
    "## Model Performance\n",
    "In this section we evaluate the model using the test data. \n",
    "\n",
    "1. Evaluate the model using the `X_test` and `y_test` data.\n",
    "2. We eport our model to use for the predictions and the backtesting"
   ]
  },
  {
   "cell_type": "code",
   "execution_count": 23,
   "metadata": {},
   "outputs": [
    {
     "name": "stdout",
     "output_type": "stream",
     "text": [
      "14/14 [==============================] - 2s 5ms/step - loss: 0.0234 - mse: 0.0234 - accuracy: 0.0000e+00\n"
     ]
    },
    {
     "data": {
      "text/plain": [
       "{'loss': 0.023410310968756676, 'mse': 0.023410310968756676, 'accuracy': 0.0}"
      ]
     },
     "execution_count": 23,
     "metadata": {},
     "output_type": "execute_result"
    }
   ],
   "source": [
    "# Evaluate the model\n",
    "model.evaluate(X_test, y_test, return_dict=True)"
   ]
  },
  {
   "cell_type": "code",
   "execution_count": 24,
   "metadata": {},
   "outputs": [],
   "source": [
    "# Save model as JSON\n",
    "rnn_json = model.to_json()\n",
    "\n",
    "file_path = Path(\"./Export/rnn_model.json\")\n",
    "with open(file_path, \"w\") as json_file:\n",
    "    json_file.write(rnn_json)\n",
    "\n",
    "# Save weights\n",
    "file_path = \"../Export/rnn_model.h5\"\n",
    "model.save_weights(\"./Export/rnn_model.h5\")"
   ]
  },
  {
   "cell_type": "code",
   "execution_count": 25,
   "metadata": {},
   "outputs": [
    {
     "data": {
      "text/html": [
       "<div>\n",
       "<style scoped>\n",
       "    .dataframe tbody tr th:only-of-type {\n",
       "        vertical-align: middle;\n",
       "    }\n",
       "\n",
       "    .dataframe tbody tr th {\n",
       "        vertical-align: top;\n",
       "    }\n",
       "\n",
       "    .dataframe thead th {\n",
       "        text-align: right;\n",
       "    }\n",
       "</style>\n",
       "<table border=\"1\" class=\"dataframe\">\n",
       "  <thead>\n",
       "    <tr style=\"text-align: right;\">\n",
       "      <th></th>\n",
       "      <th>Real</th>\n",
       "      <th>Predicted</th>\n",
       "    </tr>\n",
       "    <tr>\n",
       "      <th>Date</th>\n",
       "      <th></th>\n",
       "      <th></th>\n",
       "    </tr>\n",
       "  </thead>\n",
       "  <tbody>\n",
       "    <tr>\n",
       "      <th>2022-01-07 13:00:00</th>\n",
       "      <td>41494.4</td>\n",
       "      <td>44132.238281</td>\n",
       "    </tr>\n",
       "    <tr>\n",
       "      <th>2022-01-07 14:00:00</th>\n",
       "      <td>41898.5</td>\n",
       "      <td>43942.414062</td>\n",
       "    </tr>\n",
       "    <tr>\n",
       "      <th>2022-01-07 15:00:00</th>\n",
       "      <td>41317.1</td>\n",
       "      <td>43870.890625</td>\n",
       "    </tr>\n",
       "    <tr>\n",
       "      <th>2022-01-07 16:00:00</th>\n",
       "      <td>42143.9</td>\n",
       "      <td>43651.699219</td>\n",
       "    </tr>\n",
       "    <tr>\n",
       "      <th>2022-01-07 17:00:00</th>\n",
       "      <td>41995.1</td>\n",
       "      <td>43708.984375</td>\n",
       "    </tr>\n",
       "  </tbody>\n",
       "</table>\n",
       "</div>"
      ],
      "text/plain": [
       "                        Real     Predicted\n",
       "Date                                      \n",
       "2022-01-07 13:00:00  41494.4  44132.238281\n",
       "2022-01-07 14:00:00  41898.5  43942.414062\n",
       "2022-01-07 15:00:00  41317.1  43870.890625\n",
       "2022-01-07 16:00:00  42143.9  43651.699219\n",
       "2022-01-07 17:00:00  41995.1  43708.984375"
      ]
     },
     "metadata": {},
     "output_type": "display_data"
    },
    {
     "data": {
      "text/plain": [
       "{'window_size': 24,\n",
       " 'split_train': 0.7,\n",
       " 'dropout_fraction': 0.2,\n",
       " 'epoch': 20,\n",
       " 'batch': 3,\n",
       " 'split_val': 0.2}"
      ]
     },
     "metadata": {},
     "output_type": "display_data"
    },
    {
     "data": {},
     "metadata": {},
     "output_type": "display_data"
    },
    {
     "data": {
      "application/vnd.holoviews_exec.v0+json": "",
      "text/html": [
       "<div id='1896'>\n",
       "\n",
       "\n",
       "\n",
       "\n",
       "\n",
       "  <div class=\"bk-root\" id=\"12cae485-df3f-4ba5-9a42-155258b562f0\" data-root-id=\"1896\"></div>\n",
       "</div>\n",
       "<script type=\"application/javascript\">(function(root) {\n",
       "  function embed_document(root) {\n",
       "    var docs_json = {\"15cc6478-3601-4098-ac37-178003a94339\":{\"defs\":[{\"extends\":null,\"module\":null,\"name\":\"ReactiveHTML1\",\"overrides\":[],\"properties\":[]},{\"extends\":null,\"module\":null,\"name\":\"FlexBox1\",\"overrides\":[],\"properties\":[{\"default\":\"flex-start\",\"kind\":null,\"name\":\"align_content\"},{\"default\":\"flex-start\",\"kind\":null,\"name\":\"align_items\"},{\"default\":\"row\",\"kind\":null,\"name\":\"flex_direction\"},{\"default\":\"wrap\",\"kind\":null,\"name\":\"flex_wrap\"},{\"default\":\"flex-start\",\"kind\":null,\"name\":\"justify_content\"}]},{\"extends\":null,\"module\":null,\"name\":\"TemplateActions1\",\"overrides\":[],\"properties\":[{\"default\":0,\"kind\":null,\"name\":\"open_modal\"},{\"default\":0,\"kind\":null,\"name\":\"close_modal\"}]},{\"extends\":null,\"module\":null,\"name\":\"MaterialTemplateActions1\",\"overrides\":[],\"properties\":[{\"default\":0,\"kind\":null,\"name\":\"open_modal\"},{\"default\":0,\"kind\":null,\"name\":\"close_modal\"}]}],\"roots\":{\"references\":[{\"attributes\":{\"line_alpha\":0.2,\"line_color\":\"#fc4f30\",\"line_width\":2,\"x\":{\"field\":\"Date\"},\"y\":{\"field\":\"value\"}},\"id\":\"1976\",\"type\":\"Line\"},{\"attributes\":{\"line_alpha\":0.1,\"line_color\":\"#fc4f30\",\"line_width\":2,\"x\":{\"field\":\"Date\"},\"y\":{\"field\":\"value\"}},\"id\":\"1975\",\"type\":\"Line\"},{\"attributes\":{\"axis\":{\"id\":\"1915\"},\"coordinates\":null,\"dimension\":1,\"grid_line_color\":null,\"group\":null,\"ticker\":null},\"id\":\"1918\",\"type\":\"Grid\"},{\"attributes\":{\"months\":[0,1,2,3,4,5,6,7,8,9,10,11]},\"id\":\"1963\",\"type\":\"MonthsTicker\"},{\"attributes\":{\"months\":[0,2,4,6,8,10]},\"id\":\"1964\",\"type\":\"MonthsTicker\"},{\"attributes\":{\"click_policy\":\"mute\",\"coordinates\":null,\"group\":null,\"items\":[{\"id\":\"1969\"},{\"id\":\"2003\"}],\"location\":[0,0],\"title\":\"Variable\"},\"id\":\"1968\",\"type\":\"Legend\"},{\"attributes\":{\"source\":{\"id\":\"1938\"}},\"id\":\"1945\",\"type\":\"CDSView\"},{\"attributes\":{\"margin\":[5,5,5,5],\"name\":\"HSpacer02543\",\"sizing_mode\":\"stretch_width\"},\"id\":\"1897\",\"type\":\"Spacer\"},{\"attributes\":{\"line_color\":\"#30a2da\",\"line_width\":2,\"x\":{\"field\":\"Date\"},\"y\":{\"field\":\"value\"}},\"id\":\"1941\",\"type\":\"Line\"},{\"attributes\":{},\"id\":\"1934\",\"type\":\"AllLabels\"},{\"attributes\":{\"days\":[1,2,3,4,5,6,7,8,9,10,11,12,13,14,15,16,17,18,19,20,21,22,23,24,25,26,27,28,29,30,31]},\"id\":\"1959\",\"type\":\"DaysTicker\"},{\"attributes\":{\"coordinates\":null,\"data_source\":{\"id\":\"1971\"},\"glyph\":{\"id\":\"1974\"},\"group\":null,\"hover_glyph\":null,\"muted_glyph\":{\"id\":\"1976\"},\"nonselection_glyph\":{\"id\":\"1975\"},\"selection_glyph\":{\"id\":\"2004\"},\"view\":{\"id\":\"1978\"}},\"id\":\"1977\",\"type\":\"GlyphRenderer\"},{\"attributes\":{\"days\":[1,15]},\"id\":\"1962\",\"type\":\"DaysTicker\"},{\"attributes\":{\"months\":[0,4,8]},\"id\":\"1965\",\"type\":\"MonthsTicker\"},{\"attributes\":{\"data\":{\"Date\":{\"__ndarray__\":\"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\",\"dtype\":\"float64\",\"order\":\"little\",\"shape\":[443]},\"Variable\":[\"Real\",\"Real\",\"Real\",\"Real\",\"Real\",\"Real\",\"Real\",\"Real\",\"Real\",\"Real\",\"Real\",\"Real\",\"Real\",\"Real\",\"Real\",\"Real\",\"Real\",\"Real\",\"Real\",\"Real\",\"Real\",\"Real\",\"Real\",\"Real\",\"Real\",\"Real\",\"Real\",\"Real\",\"Real\",\"Real\",\"Real\",\"Real\",\"Real\",\"Real\",\"Real\",\"Real\",\"Real\",\"Real\",\"Real\",\"Real\",\"Real\",\"Real\",\"Real\",\"Real\",\"Real\",\"Real\",\"Real\",\"Real\",\"Real\",\"Real\",\"Real\",\"Real\",\"Real\",\"Real\",\"Real\",\"Real\",\"Real\",\"Real\",\"Real\",\"Real\",\"Real\",\"Real\",\"Real\",\"Real\",\"Real\",\"Real\",\"Real\",\"Real\",\"Real\",\"Real\",\"Real\",\"Real\",\"Real\",\"Real\",\"Real\",\"Real\",\"Real\",\"Real\",\"Real\",\"Real\",\"Real\",\"Real\",\"Real\",\"Real\",\"Real\",\"Real\",\"Real\",\"Real\",\"Real\",\"Real\",\"Real\",\"Real\",\"Real\",\"Real\",\"Real\",\"Real\",\"Real\",\"Real\",\"Real\",\"Real\",\"Real\",\"Real\",\"Real\",\"Real\",\"Real\",\"Real\",\"Real\",\"Real\",\"Real\",\"Real\",\"Real\",\"Real\",\"Real\",\"Real\",\"Real\",\"Real\",\"Real\",\"Real\",\"Real\",\"Real\",\"Real\",\"Real\",\"Real\",\"Real\",\"Real\",\"Real\",\"Real\",\"Real\",\"Real\",\"Real\",\"Real\",\"Real\",\"Real\",\"Real\",\"Real\",\"Real\",\"Real\",\"Real\",\"Real\",\"Real\",\"Real\",\"Real\",\"Real\",\"Real\",\"Real\",\"Real\",\"Real\",\"Real\",\"Real\",\"Real\",\"Real\",\"Real\",\"Real\",\"Real\",\"Real\",\"Real\",\"Real\",\"Real\",\"Real\",\"Real\",\"Real\",\"Real\",\"Real\",\"Real\",\"Real\",\"Real\",\"Real\",\"Real\",\"Real\",\"Real\",\"Real\",\"Real\",\"Real\",\"Real\",\"Real\",\"Real\",\"Real\",\"Real\",\"Real\",\"Real\",\"Real\",\"Real\",\"Real\",\"Real\",\"Real\",\"Real\",\"Real\",\"Real\",\"Real\",\"Real\",\"Real\",\"Real\",\"Real\",\"Real\",\"Real\",\"Real\",\"Real\",\"Real\",\"Real\",\"Real\",\"Real\",\"Real\",\"Real\",\"Real\",\"Real\",\"Real\",\"Real\",\"Real\",\"Real\",\"Real\",\"Real\",\"Real\",\"Real\",\"Real\",\"Real\",\"Real\",\"Real\",\"Real\",\"Real\",\"Real\",\"Real\",\"Real\",\"Real\",\"Real\",\"Real\",\"Real\",\"Real\",\"Real\",\"Real\",\"Real\",\"Real\",\"Real\",\"Real\",\"Real\",\"Real\",\"Real\",\"Real\",\"Real\",\"Real\",\"Real\",\"Real\",\"Real\",\"Real\",\"Real\",\"Real\",\"Real\",\"Real\",\"Real\",\"Real\",\"Real\",\"Real\",\"Real\",\"Real\",\"Real\",\"Real\",\"Real\",\"Real\",\"Real\",\"Real\",\"Real\",\"Real\",\"Real\",\"Real\",\"Real\",\"Real\",\"Real\",\"Real\",\"Real\",\"Real\",\"Real\",\"Real\",\"Real\",\"Real\",\"Real\",\"Real\",\"Real\",\"Real\",\"Real\",\"Real\",\"Real\",\"Real\",\"Real\",\"Real\",\"Real\",\"Real\",\"Real\",\"Real\",\"Real\",\"Real\",\"Real\",\"Real\",\"Real\",\"Real\",\"Real\",\"Real\",\"Real\",\"Real\",\"Real\",\"Real\",\"Real\",\"Real\",\"Real\",\"Real\",\"Real\",\"Real\",\"Real\",\"Real\",\"Real\",\"Real\",\"Real\",\"Real\",\"Real\",\"Real\",\"Real\",\"Real\",\"Real\",\"Real\",\"Real\",\"Real\",\"Real\",\"Real\",\"Real\",\"Real\",\"Real\",\"Real\",\"Real\",\"Real\",\"Real\",\"Real\",\"Real\",\"Real\",\"Real\",\"Real\",\"Real\",\"Real\",\"Real\",\"Real\",\"Real\",\"Real\",\"Real\",\"Real\",\"Real\",\"Real\",\"Real\",\"Real\",\"Real\",\"Real\",\"Real\",\"Real\",\"Real\",\"Real\",\"Real\",\"Real\",\"Real\",\"Real\",\"Real\",\"Real\",\"Real\",\"Real\",\"Real\",\"Real\",\"Real\",\"Real\",\"Real\",\"Real\",\"Real\",\"Real\",\"Real\",\"Real\",\"Real\",\"Real\",\"Real\",\"Real\",\"Real\",\"Real\",\"Real\",\"Real\",\"Real\",\"Real\",\"Real\",\"Real\",\"Real\",\"Real\",\"Real\",\"Real\",\"Real\",\"Real\",\"Real\",\"Real\",\"Real\",\"Real\",\"Real\",\"Real\",\"Real\",\"Real\",\"Real\",\"Real\",\"Real\",\"Real\",\"Real\",\"Real\",\"Real\",\"Real\",\"Real\",\"Real\",\"Real\",\"Real\",\"Real\",\"Real\",\"Real\",\"Real\",\"Real\",\"Real\",\"Real\",\"Real\",\"Real\",\"Real\",\"Real\",\"Real\",\"Real\",\"Real\",\"Real\",\"Real\",\"Real\",\"Real\",\"Real\",\"Real\",\"Real\",\"Real\",\"Real\",\"Real\",\"Real\",\"Real\",\"Real\",\"Real\",\"Real\",\"Real\",\"Real\",\"Real\",\"Real\",\"Real\",\"Real\",\"Real\"],\"value\":{\"__ndarray__\":\"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\",\"dtype\":\"float64\",\"order\":\"little\",\"shape\":[443]}},\"selected\":{\"id\":\"1939\"},\"selection_policy\":{\"id\":\"1953\"}},\"id\":\"1938\",\"type\":\"ColumnDataSource\"},{\"attributes\":{\"children\":[{\"id\":\"1897\"},{\"id\":\"1902\"},{\"id\":\"2221\"}],\"margin\":[0,0,0,0],\"name\":\"Row02539\",\"tags\":[\"embedded\"]},\"id\":\"1896\",\"type\":\"Row\"},{\"attributes\":{},\"id\":\"1916\",\"type\":\"BasicTicker\"},{\"attributes\":{\"line_alpha\":0.1,\"line_color\":\"#30a2da\",\"line_width\":2,\"x\":{\"field\":\"Date\"},\"y\":{\"field\":\"value\"}},\"id\":\"1942\",\"type\":\"Line\"},{\"attributes\":{\"months\":[0,6]},\"id\":\"1966\",\"type\":\"MonthsTicker\"},{\"attributes\":{},\"id\":\"1939\",\"type\":\"Selection\"},{\"attributes\":{\"tools\":[{\"id\":\"1900\"},{\"id\":\"1919\"},{\"id\":\"1920\"},{\"id\":\"1921\"},{\"id\":\"1922\"},{\"id\":\"1923\"}]},\"id\":\"1925\",\"type\":\"Toolbar\"},{\"attributes\":{\"line_alpha\":0.2,\"line_color\":\"#30a2da\",\"line_width\":2,\"x\":{\"field\":\"Date\"},\"y\":{\"field\":\"value\"}},\"id\":\"1943\",\"type\":\"Line\"},{\"attributes\":{\"bottom_units\":\"screen\",\"coordinates\":null,\"fill_alpha\":0.5,\"fill_color\":\"lightgrey\",\"group\":null,\"left_units\":\"screen\",\"level\":\"overlay\",\"line_alpha\":1.0,\"line_color\":\"black\",\"line_dash\":[4,4],\"line_width\":2,\"right_units\":\"screen\",\"syncable\":false,\"top_units\":\"screen\"},\"id\":\"1924\",\"type\":\"BoxAnnotation\"},{\"attributes\":{\"label\":{\"value\":\"Real\"},\"renderers\":[{\"id\":\"1944\"}]},\"id\":\"1969\",\"type\":\"LegendItem\"},{\"attributes\":{},\"id\":\"1919\",\"type\":\"SaveTool\"},{\"attributes\":{\"data\":{\"Date\":{\"__ndarray__\":\"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\",\"dtype\":\"float64\",\"order\":\"little\",\"shape\":[443]},\"Variable\":[\"Predicted\",\"Predicted\",\"Predicted\",\"Predicted\",\"Predicted\",\"Predicted\",\"Predicted\",\"Predicted\",\"Predicted\",\"Predicted\",\"Predicted\",\"Predicted\",\"Predicted\",\"Predicted\",\"Predicted\",\"Predicted\",\"Predicted\",\"Predicted\",\"Predicted\",\"Predicted\",\"Predicted\",\"Predicted\",\"Predicted\",\"Predicted\",\"Predicted\",\"Predicted\",\"Predicted\",\"Predicted\",\"Predicted\",\"Predicted\",\"Predicted\",\"Predicted\",\"Predicted\",\"Predicted\",\"Predicted\",\"Predicted\",\"Predicted\",\"Predicted\",\"Predicted\",\"Predicted\",\"Predicted\",\"Predicted\",\"Predicted\",\"Predicted\",\"Predicted\",\"Predicted\",\"Predicted\",\"Predicted\",\"Predicted\",\"Predicted\",\"Predicted\",\"Predicted\",\"Predicted\",\"Predicted\",\"Predicted\",\"Predicted\",\"Predicted\",\"Predicted\",\"Predicted\",\"Predicted\",\"Predicted\",\"Predicted\",\"Predicted\",\"Predicted\",\"Predicted\",\"Predicted\",\"Predicted\",\"Predicted\",\"Predicted\",\"Predicted\",\"Predicted\",\"Predicted\",\"Predicted\",\"Predicted\",\"Predicted\",\"Predicted\",\"Predicted\",\"Predicted\",\"Predicted\",\"Predicted\",\"Predicted\",\"Predicted\",\"Predicted\",\"Predicted\",\"Predicted\",\"Predicted\",\"Predicted\",\"Predicted\",\"Predicted\",\"Predicted\",\"Predicted\",\"Predicted\",\"Predicted\",\"Predicted\",\"Predicted\",\"Predicted\",\"Predicted\",\"Predicted\",\"Predicted\",\"Predicted\",\"Predicted\",\"Predicted\",\"Predicted\",\"Predicted\",\"Predicted\",\"Predicted\",\"Predicted\",\"Predicted\",\"Predicted\",\"Predicted\",\"Predicted\",\"Predicted\",\"Predicted\",\"Predicted\",\"Predicted\",\"Predicted\",\"Predicted\",\"Predicted\",\"Predicted\",\"Predicted\",\"Predicted\",\"Predicted\",\"Predicted\",\"Predicted\",\"Predicted\",\"Predicted\",\"Predicted\",\"Predicted\",\"Predicted\",\"Predicted\",\"Predicted\",\"Predicted\",\"Predicted\",\"Predicted\",\"Predicted\",\"Predicted\",\"Predicted\",\"Predicted\",\"Predicted\",\"Predicted\",\"Predicted\",\"Predicted\",\"Predicted\",\"Predicted\",\"Predicted\",\"Predicted\",\"Predicted\",\"Predicted\",\"Predicted\",\"Predicted\",\"Predicted\",\"Predicted\",\"Predicted\",\"Predicted\",\"Predicted\",\"Predicted\",\"Predicted\",\"Predicted\",\"Predicted\",\"Predicted\",\"Predicted\",\"Predicted\",\"Predicted\",\"Predicted\",\"Predicted\",\"Predicted\",\"Predicted\",\"Predicted\",\"Predicted\",\"Predicted\",\"Predicted\",\"Predicted\",\"Predicted\",\"Predicted\",\"Predicted\",\"Predicted\",\"Predicted\",\"Predicted\",\"Predicted\",\"Predicted\",\"Predicted\",\"Predicted\",\"Predicted\",\"Predicted\",\"Predicted\",\"Predicted\",\"Predicted\",\"Predicted\",\"Predicted\",\"Predicted\",\"Predicted\",\"Predicted\",\"Predicted\",\"Predicted\",\"Predicted\",\"Predicted\",\"Predicted\",\"Predicted\",\"Predicted\",\"Predicted\",\"Predicted\",\"Predicted\",\"Predicted\",\"Predicted\",\"Predicted\",\"Predicted\",\"Predicted\",\"Predicted\",\"Predicted\",\"Predicted\",\"Predicted\",\"Predicted\",\"Predicted\",\"Predicted\",\"Predicted\",\"Predicted\",\"Predicted\",\"Predicted\",\"Predicted\",\"Predicted\",\"Predicted\",\"Predicted\",\"Predicted\",\"Predicted\",\"Predicted\",\"Predicted\",\"Predicted\",\"Predicted\",\"Predicted\",\"Predicted\",\"Predicted\",\"Predicted\",\"Predicted\",\"Predicted\",\"Predicted\",\"Predicted\",\"Predicted\",\"Predicted\",\"Predicted\",\"Predicted\",\"Predicted\",\"Predicted\",\"Predicted\",\"Predicted\",\"Predicted\",\"Predicted\",\"Predicted\",\"Predicted\",\"Predicted\",\"Predicted\",\"Predicted\",\"Predicted\",\"Predicted\",\"Predicted\",\"Predicted\",\"Predicted\",\"Predicted\",\"Predicted\",\"Predicted\",\"Predicted\",\"Predicted\",\"Predicted\",\"Predicted\",\"Predicted\",\"Predicted\",\"Predicted\",\"Predicted\",\"Predicted\",\"Predicted\",\"Predicted\",\"Predicted\",\"Predicted\",\"Predicted\",\"Predicted\",\"Predicted\",\"Predicted\",\"Predicted\",\"Predicted\",\"Predicted\",\"Predicted\",\"Predicted\",\"Predicted\",\"Predicted\",\"Predicted\",\"Predicted\",\"Predicted\",\"Predicted\",\"Predicted\",\"Predicted\",\"Predicted\",\"Predicted\",\"Predicted\",\"Predicted\",\"Predicted\",\"Predicted\",\"Predicted\",\"Predicted\",\"Predicted\",\"Predicted\",\"Predicted\",\"Predicted\",\"Predicted\",\"Predicted\",\"Predicted\",\"Predicted\",\"Predicted\",\"Predicted\",\"Predicted\",\"Predicted\",\"Predicted\",\"Predicted\",\"Predicted\",\"Predicted\",\"Predicted\",\"Predicted\",\"Predicted\",\"Predicted\",\"Predicted\",\"Predicted\",\"Predicted\",\"Predicted\",\"Predicted\",\"Predicted\",\"Predicted\",\"Predicted\",\"Predicted\",\"Predicted\",\"Predicted\",\"Predicted\",\"Predicted\",\"Predicted\",\"Predicted\",\"Predicted\",\"Predicted\",\"Predicted\",\"Predicted\",\"Predicted\",\"Predicted\",\"Predicted\",\"Predicted\",\"Predicted\",\"Predicted\",\"Predicted\",\"Predicted\",\"Predicted\",\"Predicted\",\"Predicted\",\"Predicted\",\"Predicted\",\"Predicted\",\"Predicted\",\"Predicted\",\"Predicted\",\"Predicted\",\"Predicted\",\"Predicted\",\"Predicted\",\"Predicted\",\"Predicted\",\"Predicted\",\"Predicted\",\"Predicted\",\"Predicted\",\"Predicted\",\"Predicted\",\"Predicted\",\"Predicted\",\"Predicted\",\"Predicted\",\"Predicted\",\"Predicted\",\"Predicted\",\"Predicted\",\"Predicted\",\"Predicted\",\"Predicted\",\"Predicted\",\"Predicted\",\"Predicted\",\"Predicted\",\"Predicted\",\"Predicted\",\"Predicted\",\"Predicted\",\"Predicted\",\"Predicted\",\"Predicted\",\"Predicted\",\"Predicted\",\"Predicted\",\"Predicted\",\"Predicted\",\"Predicted\",\"Predicted\",\"Predicted\",\"Predicted\",\"Predicted\",\"Predicted\",\"Predicted\",\"Predicted\",\"Predicted\",\"Predicted\",\"Predicted\",\"Predicted\",\"Predicted\",\"Predicted\",\"Predicted\",\"Predicted\",\"Predicted\",\"Predicted\",\"Predicted\",\"Predicted\",\"Predicted\",\"Predicted\",\"Predicted\",\"Predicted\",\"Predicted\",\"Predicted\",\"Predicted\",\"Predicted\",\"Predicted\",\"Predicted\",\"Predicted\",\"Predicted\",\"Predicted\",\"Predicted\",\"Predicted\",\"Predicted\",\"Predicted\",\"Predicted\",\"Predicted\",\"Predicted\",\"Predicted\",\"Predicted\",\"Predicted\",\"Predicted\",\"Predicted\",\"Predicted\",\"Predicted\",\"Predicted\",\"Predicted\",\"Predicted\",\"Predicted\"],\"value\":{\"__ndarray__\":\"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\",\"dtype\":\"float32\",\"order\":\"little\",\"shape\":[443]}},\"selected\":{\"id\":\"1972\"},\"selection_policy\":{\"id\":\"1988\"}},\"id\":\"1971\",\"type\":\"ColumnDataSource\"},{\"attributes\":{},\"id\":\"1920\",\"type\":\"PanTool\"},{\"attributes\":{},\"id\":\"1953\",\"type\":\"UnionRenderers\"},{\"attributes\":{},\"id\":\"1967\",\"type\":\"YearsTicker\"},{\"attributes\":{\"end\":46454.208984375,\"reset_end\":46454.208984375,\"reset_start\":31891.435546875,\"start\":31891.435546875,\"tags\":[[[\"value\",\"value\",null]]]},\"id\":\"1899\",\"type\":\"Range1d\"},{\"attributes\":{},\"id\":\"1923\",\"type\":\"ResetTool\"},{\"attributes\":{\"num_minor_ticks\":5,\"tickers\":[{\"id\":\"1956\"},{\"id\":\"1957\"},{\"id\":\"1958\"},{\"id\":\"1959\"},{\"id\":\"1960\"},{\"id\":\"1961\"},{\"id\":\"1962\"},{\"id\":\"1963\"},{\"id\":\"1964\"},{\"id\":\"1965\"},{\"id\":\"1966\"},{\"id\":\"1967\"}]},\"id\":\"1912\",\"type\":\"DatetimeTicker\"},{\"attributes\":{},\"id\":\"1921\",\"type\":\"WheelZoomTool\"},{\"attributes\":{},\"id\":\"1937\",\"type\":\"AllLabels\"},{\"attributes\":{\"coordinates\":null,\"data_source\":{\"id\":\"1938\"},\"glyph\":{\"id\":\"1941\"},\"group\":null,\"hover_glyph\":null,\"muted_glyph\":{\"id\":\"1943\"},\"nonselection_glyph\":{\"id\":\"1942\"},\"selection_glyph\":{\"id\":\"1970\"},\"view\":{\"id\":\"1945\"}},\"id\":\"1944\",\"type\":\"GlyphRenderer\"},{\"attributes\":{\"overlay\":{\"id\":\"1924\"}},\"id\":\"1922\",\"type\":\"BoxZoomTool\"},{\"attributes\":{\"mantissas\":[1,2,5],\"max_interval\":500.0,\"num_minor_ticks\":0},\"id\":\"1956\",\"type\":\"AdaptiveTicker\"},{\"attributes\":{\"callback\":null,\"formatters\":{\"@{Date}\":\"datetime\"},\"renderers\":[{\"id\":\"1944\"},{\"id\":\"1977\"}],\"tags\":[\"hv_created\"],\"tooltips\":[[\"Variable\",\"@{Variable}\"],[\"Date\",\"@{Date}{%F %T}\"],[\"value\",\"@{value}\"]]},\"id\":\"1900\",\"type\":\"HoverTool\"},{\"attributes\":{\"base\":60,\"mantissas\":[1,2,5,10,15,20,30],\"max_interval\":1800000.0,\"min_interval\":1000.0,\"num_minor_ticks\":0},\"id\":\"1957\",\"type\":\"AdaptiveTicker\"},{\"attributes\":{\"axis_label\":\"Date\",\"coordinates\":null,\"formatter\":{\"id\":\"1933\"},\"group\":null,\"major_label_policy\":{\"id\":\"1934\"},\"ticker\":{\"id\":\"1912\"}},\"id\":\"1911\",\"type\":\"DatetimeAxis\"},{\"attributes\":{},\"id\":\"1933\",\"type\":\"DatetimeTickFormatter\"},{\"attributes\":{\"base\":24,\"mantissas\":[1,2,4,6,8,12],\"max_interval\":43200000.0,\"min_interval\":3600000.0,\"num_minor_ticks\":0},\"id\":\"1958\",\"type\":\"AdaptiveTicker\"},{\"attributes\":{\"end\":1643151600000.0,\"reset_end\":1643151600000.0,\"reset_start\":1641560400000.0,\"start\":1641560400000.0,\"tags\":[[[\"Date\",\"Date\",null]]]},\"id\":\"1898\",\"type\":\"Range1d\"},{\"attributes\":{\"line_color\":\"#fc4f30\",\"line_width\":2,\"x\":{\"field\":\"Date\"},\"y\":{\"field\":\"value\"}},\"id\":\"1974\",\"type\":\"Line\"},{\"attributes\":{\"days\":[1,4,7,10,13,16,19,22,25,28]},\"id\":\"1960\",\"type\":\"DaysTicker\"},{\"attributes\":{\"coordinates\":null,\"group\":null,\"text\":\"Actual Vs. Predicted BTC Prices\",\"text_color\":\"black\",\"text_font_size\":\"12pt\"},\"id\":\"1903\",\"type\":\"Title\"},{\"attributes\":{\"line_color\":\"#fc4f30\",\"line_width\":2,\"x\":{\"field\":\"Date\"},\"y\":{\"field\":\"value\"}},\"id\":\"2004\",\"type\":\"Line\"},{\"attributes\":{\"margin\":[5,5,5,5],\"name\":\"HSpacer02544\",\"sizing_mode\":\"stretch_width\"},\"id\":\"2221\",\"type\":\"Spacer\"},{\"attributes\":{\"below\":[{\"id\":\"1911\"}],\"center\":[{\"id\":\"1914\"},{\"id\":\"1918\"}],\"height\":300,\"left\":[{\"id\":\"1915\"}],\"margin\":[5,5,5,5],\"min_border_bottom\":10,\"min_border_left\":10,\"min_border_right\":10,\"min_border_top\":10,\"renderers\":[{\"id\":\"1944\"},{\"id\":\"1977\"}],\"right\":[{\"id\":\"1968\"}],\"sizing_mode\":\"fixed\",\"title\":{\"id\":\"1903\"},\"toolbar\":{\"id\":\"1925\"},\"width\":700,\"x_range\":{\"id\":\"1898\"},\"x_scale\":{\"id\":\"1907\"},\"y_range\":{\"id\":\"1899\"},\"y_scale\":{\"id\":\"1909\"}},\"id\":\"1902\",\"subtype\":\"Figure\",\"type\":\"Plot\"},{\"attributes\":{},\"id\":\"1907\",\"type\":\"LinearScale\"},{\"attributes\":{},\"id\":\"1909\",\"type\":\"LinearScale\"},{\"attributes\":{},\"id\":\"1936\",\"type\":\"BasicTickFormatter\"},{\"attributes\":{\"label\":{\"value\":\"Predicted\"},\"renderers\":[{\"id\":\"1977\"}]},\"id\":\"2003\",\"type\":\"LegendItem\"},{\"attributes\":{},\"id\":\"1988\",\"type\":\"UnionRenderers\"},{\"attributes\":{},\"id\":\"1972\",\"type\":\"Selection\"},{\"attributes\":{\"axis_label\":\"\",\"coordinates\":null,\"formatter\":{\"id\":\"1936\"},\"group\":null,\"major_label_policy\":{\"id\":\"1937\"},\"ticker\":{\"id\":\"1916\"}},\"id\":\"1915\",\"type\":\"LinearAxis\"},{\"attributes\":{\"line_color\":\"#30a2da\",\"line_width\":2,\"x\":{\"field\":\"Date\"},\"y\":{\"field\":\"value\"}},\"id\":\"1970\",\"type\":\"Line\"},{\"attributes\":{\"days\":[1,8,15,22]},\"id\":\"1961\",\"type\":\"DaysTicker\"},{\"attributes\":{\"axis\":{\"id\":\"1911\"},\"coordinates\":null,\"grid_line_color\":null,\"group\":null,\"ticker\":null},\"id\":\"1914\",\"type\":\"Grid\"},{\"attributes\":{\"source\":{\"id\":\"1971\"}},\"id\":\"1978\",\"type\":\"CDSView\"}],\"root_ids\":[\"1896\"]},\"title\":\"Bokeh Application\",\"version\":\"2.4.2\"}};\n",
       "    var render_items = [{\"docid\":\"15cc6478-3601-4098-ac37-178003a94339\",\"root_ids\":[\"1896\"],\"roots\":{\"1896\":\"12cae485-df3f-4ba5-9a42-155258b562f0\"}}];\n",
       "    root.Bokeh.embed.embed_items_notebook(docs_json, render_items);\n",
       "  }\n",
       "  if (root.Bokeh !== undefined && root.Bokeh.Panel !== undefined) {\n",
       "    embed_document(root);\n",
       "  } else {\n",
       "    var attempts = 0;\n",
       "    var timer = setInterval(function(root) {\n",
       "      if (root.Bokeh !== undefined && root.Bokeh.Panel !== undefined) {\n",
       "        clearInterval(timer);\n",
       "        embed_document(root);\n",
       "      } else if (document.readyState == \"complete\") {\n",
       "        attempts++;\n",
       "        if (attempts > 200) {\n",
       "          clearInterval(timer);\n",
       "          console.log(\"Bokeh: ERROR: Unable to run BokehJS code because BokehJS library is missing\");\n",
       "        }\n",
       "      }\n",
       "    }, 25, root)\n",
       "  }\n",
       "})(window);</script>"
      ],
      "text/plain": [
       ":NdOverlay   [Variable]\n",
       "   :Curve   [Date]   (value)"
      ]
     },
     "metadata": {
      "application/vnd.holoviews_exec.v0+json": {
       "id": "1896"
      }
     },
     "output_type": "display_data"
    }
   ],
   "source": [
    "# Make some predictions\n",
    "prediction =  model.predict(X_test)\n",
    "\n",
    "# Recover the original prices instead of the scaled version\n",
    "predicted_prices = Y_scaler.inverse_transform(prediction)\n",
    "real_prices = Y_scaler.inverse_transform(y_test.reshape(-1, 1))\n",
    "\n",
    "\n",
    "# Create a DataFrame of Real and Predicted values\n",
    "stocks = pd.DataFrame({\n",
    "    \"Real\": real_prices.ravel(),\n",
    "    \"Predicted\": predicted_prices.ravel()\n",
    "}, index = df.index[-len(real_prices): ]) \n",
    "\n",
    "stocks.head()\n",
    "# Plot the real vs predicted values as a line chart\n",
    "display(stocks.head(),\n",
    "        model_parameters,\n",
    "        stocks.hvplot(title=f\"Actual Vs. Predicted {ticker} Prices\"))"
   ]
  },
  {
   "cell_type": "code",
   "execution_count": null,
   "metadata": {},
   "outputs": [],
   "source": []
  },
  {
   "cell_type": "code",
   "execution_count": null,
   "metadata": {},
   "outputs": [],
   "source": []
  }
 ],
 "metadata": {
  "file_extension": ".py",
  "kernelspec": {
   "display_name": "Python 3 (ipykernel)",
   "language": "python",
   "name": "python3"
  },
  "language_info": {
   "codemirror_mode": {
    "name": "ipython",
    "version": 3
   },
   "file_extension": ".py",
   "mimetype": "text/x-python",
   "name": "python",
   "nbconvert_exporter": "python",
   "pygments_lexer": "ipython3",
   "version": "3.8.8"
  },
  "mimetype": "text/x-python",
  "name": "python",
  "npconvert_exporter": "python",
  "pygments_lexer": "ipython3",
  "version": 3
 },
 "nbformat": 4,
 "nbformat_minor": 4
}
